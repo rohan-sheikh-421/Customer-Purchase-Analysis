{
  "nbformat": 4,
  "nbformat_minor": 0,
  "metadata": {
    "colab": {
      "provenance": []
    },
    "kernelspec": {
      "name": "python3",
      "display_name": "Python 3"
    },
    "language_info": {
      "name": "python"
    }
  },
  "cells": [
    {
      "cell_type": "code",
      "execution_count": 2,
      "metadata": {
        "id": "ePg7qaV_XK47"
      },
      "outputs": [],
      "source": [
        "import pandas as pd"
      ]
    },
    {
      "cell_type": "markdown",
      "source": [
        "Load the dataset"
      ],
      "metadata": {
        "id": "ISnVq8DSaPJV"
      }
    },
    {
      "cell_type": "code",
      "source": [
        "df = pd.read_csv('/content/Retail_Customer.csv')"
      ],
      "metadata": {
        "id": "w-YafuHMaNHz"
      },
      "execution_count": 3,
      "outputs": []
    },
    {
      "cell_type": "markdown",
      "source": [
        "Convert 'Visit_Date' column to datetime"
      ],
      "metadata": {
        "id": "f5EUTLNyaFDZ"
      }
    },
    {
      "cell_type": "code",
      "source": [
        "df['Visit_Date'] = pd.to_datetime(df['Visit_Date'])"
      ],
      "metadata": {
        "id": "9snOg3t9aAtZ"
      },
      "execution_count": 4,
      "outputs": []
    },
    {
      "cell_type": "markdown",
      "source": [
        " Calculate the reference date (last date of 5th week)"
      ],
      "metadata": {
        "id": "03-ys2j9Z61D"
      }
    },
    {
      "cell_type": "code",
      "source": [
        "reference_date = df['Visit_Date'].max() - pd.DateOffset(weeks=5)"
      ],
      "metadata": {
        "id": "ud41gcf2Z4fD"
      },
      "execution_count": 5,
      "outputs": []
    },
    {
      "cell_type": "markdown",
      "source": [
        "setting the date with respect to reference data"
      ],
      "metadata": {
        "id": "8dLH-7rTZy5i"
      }
    },
    {
      "cell_type": "code",
      "source": [
        "feature_set = df[df['Visit_Date'] >= reference_date]"
      ],
      "metadata": {
        "id": "nLmWFyQdZoVv"
      },
      "execution_count": 6,
      "outputs": []
    },
    {
      "cell_type": "markdown",
      "source": [
        "Defining the feature set"
      ],
      "metadata": {
        "id": "5jtfdi8LZYH9"
      }
    },
    {
      "cell_type": "code",
      "source": [
        "feature_set = feature_set[['CustomerID', 'Total_Purchases_In_USD']]"
      ],
      "metadata": {
        "id": "tI0CJS7xZWee"
      },
      "execution_count": 7,
      "outputs": []
    },
    {
      "cell_type": "markdown",
      "source": [
        "Printing the feature set"
      ],
      "metadata": {
        "id": "M_CvdBQFZbMF"
      }
    },
    {
      "cell_type": "code",
      "source": [
        "print(feature_set.head())"
      ],
      "metadata": {
        "colab": {
          "base_uri": "https://localhost:8080/"
        },
        "id": "frd6qjNAY0pv",
        "outputId": "a8fe8487-35d9-4a42-d54e-e44b0250413d"
      },
      "execution_count": 8,
      "outputs": [
        {
          "output_type": "stream",
          "name": "stdout",
          "text": [
            "   CustomerID  Total_Purchases_In_USD\n",
            "0   104790628                   51.36\n",
            "1     6927608                   77.04\n",
            "2  1078961990                   85.60\n",
            "3  1034571766                   85.60\n",
            "4  1094103886                   51.36\n"
          ]
        }
      ]
    },
    {
      "cell_type": "code",
      "source": [
        "print(df)"
      ],
      "metadata": {
        "colab": {
          "base_uri": "https://localhost:8080/"
        },
        "id": "IuAHAnKaY8P_",
        "outputId": "67732395-3d3a-4d64-c33d-53a40013e8b5"
      },
      "execution_count": 9,
      "outputs": [
        {
          "output_type": "stream",
          "name": "stdout",
          "text": [
            "       Visit_Date  CustomerID  Total_Purchases_In_USD\n",
            "0      2014-09-17   104790628                   51.36\n",
            "1      2014-09-17     6927608                   77.04\n",
            "2      2014-09-17  1078961990                   85.60\n",
            "3      2014-09-17  1034571766                   85.60\n",
            "4      2014-09-17  1094103886                   51.36\n",
            "...           ...         ...                     ...\n",
            "467523 2014-10-04   828458332                  171.20\n",
            "467524 2014-10-04   623985510                  136.96\n",
            "467525 2014-10-04   104928130                  171.20\n",
            "467526 2014-10-04    48169222                  171.20\n",
            "467527 2014-10-04      112477                     NaN\n",
            "\n",
            "[467528 rows x 3 columns]\n"
          ]
        }
      ]
    },
    {
      "cell_type": "markdown",
      "source": [
        "Creating Additional Churn Features"
      ],
      "metadata": {
        "id": "v-iV1aha0EiB"
      }
    },
    {
      "cell_type": "code",
      "source": [
        "# Step 1: Load the provided CSV file containing the data\n",
        "data = pd.read_csv('/content/Retail_Customer.csv')\n"
      ],
      "metadata": {
        "id": "XaffVf81z-wR"
      },
      "execution_count": 10,
      "outputs": []
    },
    {
      "cell_type": "code",
      "source": [
        "print(data.describe())"
      ],
      "metadata": {
        "colab": {
          "base_uri": "https://localhost:8080/"
        },
        "id": "pxa66JYm1Ogl",
        "outputId": "f4df2fb9-a64a-4b35-9652-86a627dc3330"
      },
      "execution_count": 11,
      "outputs": [
        {
          "output_type": "stream",
          "name": "stdout",
          "text": [
            "         CustomerID  Total_Purchases_In_USD\n",
            "count  4.675280e+05           467527.000000\n",
            "mean   5.867787e+08              135.535064\n",
            "std    4.828651e+08              156.930969\n",
            "min    4.880000e+02                0.000000\n",
            "25%    8.861240e+07               77.040000\n",
            "50%    7.395870e+08               85.600000\n",
            "75%    1.079307e+09              171.200000\n",
            "max    1.204996e+09            34240.000000\n"
          ]
        }
      ]
    },
    {
      "cell_type": "code",
      "source": [
        "# Function to calculate total revenue for each customer\n",
        "def calculate_total_revenue(df):\n",
        "    return df.groupby('CustomerID')['Total_Purchases_In_USD'].sum()\n",
        "\n",
        "# Function to calculate maximum purchase in a day for each customer\n",
        "def calculate_max_purchase_in_a_day(df):\n",
        "    return df.groupby('CustomerID')['Total_Purchases_In_USD'].max()\n",
        "\n",
        "# Function to calculate minimum purchase in a day for each customer\n",
        "def calculate_min_purchase_in_a_day(df):\n",
        "    return df.groupby('CustomerID')['Total_Purchases_In_USD'].min()\n",
        "\n",
        "# Function to calculate total visit days for each customer\n",
        "def calculate_total_visit_days(df):\n",
        "    return df.groupby('CustomerID').size()\n",
        "\n",
        "# Function to calculate standard deviation in sales for each customer\n",
        "def calculate_standard_deviation_in_sales(df):\n",
        "    return df.groupby('CustomerID')['Total_Purchases_In_USD'].std()\n",
        "\n",
        "# Now we'll apply these functions to our dataset\n",
        "new_features = pd.DataFrame({\n",
        "    'CUSTOMER_ID': data['CustomerID'].unique(),\n",
        "    'Total_Revenue': calculate_total_revenue(data),\n",
        "    'Max_Purchase_In_A_Day': calculate_max_purchase_in_a_day(data),\n",
        "    'Min_Purchase_In_A_Day': calculate_min_purchase_in_a_day(data),\n",
        "    'Total_Visit_Days': calculate_total_visit_days(data),\n",
        "    'Standard_Deviation': calculate_standard_deviation_in_sales(data)\n",
        "})\n",
        "\n",
        "# Step 4: Save the new features along with the existing data into a new CSV file\n",
        "merged_data = pd.merge(data, new_features, left_on='CustomerID', right_on='CUSTOMER_ID', how='left')\n",
        "merged_data.to_csv('new_features.csv', index=False)\n"
      ],
      "metadata": {
        "id": "3JxRJ5gl0LL0"
      },
      "execution_count": 12,
      "outputs": []
    },
    {
      "cell_type": "markdown",
      "source": [
        "Q1) Calculating the highest purchase"
      ],
      "metadata": {
        "id": "F-swY77xagVU"
      }
    },
    {
      "cell_type": "code",
      "source": [
        "weekly_purchases = feature_set.groupby('CustomerID')['Total_Purchases_In_USD'].sum()\n",
        "\n",
        "imp_customer_id = weekly_purchases.idxmax()\n",
        "\n",
        "highest_purchase_amount = weekly_purchases[imp_customer_id]\n",
        "\n",
        "print(f\"the highest purchase was {highest_purchase_amount:.2f} in the last 5 weeks by Customer with ID {imp_customer_id}\")\n"
      ],
      "metadata": {
        "colab": {
          "base_uri": "https://localhost:8080/"
        },
        "id": "v2Q3YerFaawk",
        "outputId": "968d99eb-4fd8-47a5-b173-fb59a17e3219"
      },
      "execution_count": null,
      "outputs": [
        {
          "output_type": "stream",
          "name": "stdout",
          "text": [
            "the highest purchase was 53414.40 in the last 5 weeks by Customer with ID 1032283346\n"
          ]
        }
      ]
    },
    {
      "cell_type": "markdown",
      "source": [
        "2) important customer"
      ],
      "metadata": {
        "id": "71UEwzLRblSn"
      }
    },
    {
      "cell_type": "code",
      "source": [
        "print(f\"Customer with ID {imp_customer_id} is the most important customer with total purchases of {highest_purchase_amount:.2f} in the last 5 weeks.\")\n"
      ],
      "metadata": {
        "colab": {
          "base_uri": "https://localhost:8080/"
        },
        "id": "zLOYr4efbsDL",
        "outputId": "5700779b-a0ca-4e01-9527-dd86f0fee8ca"
      },
      "execution_count": null,
      "outputs": [
        {
          "output_type": "stream",
          "name": "stdout",
          "text": [
            "Customer with ID 1032283346 is the most important customer with total purchases of 53414.40 in the last 5 weeks.\n"
          ]
        }
      ]
    },
    {
      "cell_type": "markdown",
      "source": [
        "3) Making Categories for customers based on their purchase"
      ],
      "metadata": {
        "id": "XntK8NRLb6HR"
      }
    },
    {
      "cell_type": "code",
      "source": [
        "# thresholds\n",
        "poor_threshold = 500\n",
        "mediocre_threshold = 1000\n",
        "\n",
        "# new column for customer category\n",
        "df['Customer_Category'] = 'Unknown'\n",
        "\n",
        "# Categorize customers based on their spending\n",
        "df.loc[df['Total_Purchases_In_USD'] < poor_threshold, 'Customer_Category'] = 'Poor'\n",
        "df.loc[(df['Total_Purchases_In_USD'] >= poor_threshold) & (df['Total_Purchases_In_USD'] < mediocre_threshold), 'Customer_Category'] = 'Mediocre'\n",
        "df.loc[df['Total_Purchases_In_USD'] >= mediocre_threshold, 'Customer_Category'] = 'Rich'\n",
        "\n",
        "# customer categories\n",
        "print(df['Customer_Category'].value_counts())\n"
      ],
      "metadata": {
        "colab": {
          "base_uri": "https://localhost:8080/"
        },
        "id": "_Od1HZPGcgf_",
        "outputId": "7a50461f-0c6e-4a4a-ba9c-6f6d50db1ec8"
      },
      "execution_count": null,
      "outputs": [
        {
          "output_type": "stream",
          "name": "stdout",
          "text": [
            "Poor        852029\n",
            "Mediocre     16852\n",
            "Rich          1930\n",
            "Name: Customer_Category, dtype: int64\n"
          ]
        }
      ]
    },
    {
      "cell_type": "code",
      "source": [
        "data"
      ],
      "metadata": {
        "colab": {
          "base_uri": "https://localhost:8080/",
          "height": 424
        },
        "id": "nr3lGvPLdUaV",
        "outputId": "fa459f96-2105-42e8-f7bd-3505560e31be"
      },
      "execution_count": 13,
      "outputs": [
        {
          "output_type": "execute_result",
          "data": {
            "text/plain": [
              "       Visit_Date  CustomerID  Total_Purchases_In_USD\n",
              "0       9/17/2014   104790628                   51.36\n",
              "1       9/17/2014     6927608                   77.04\n",
              "2       9/17/2014  1078961990                   85.60\n",
              "3       9/17/2014  1034571766                   85.60\n",
              "4       9/17/2014  1094103886                   51.36\n",
              "...           ...         ...                     ...\n",
              "467523  10/4/2014   828458332                  171.20\n",
              "467524  10/4/2014   623985510                  136.96\n",
              "467525  10/4/2014   104928130                  171.20\n",
              "467526  10/4/2014    48169222                  171.20\n",
              "467527  10/4/2014      112477                     NaN\n",
              "\n",
              "[467528 rows x 3 columns]"
            ],
            "text/html": [
              "\n",
              "  <div id=\"df-cfefc77b-6a2d-41ac-9878-946cf490264e\" class=\"colab-df-container\">\n",
              "    <div>\n",
              "<style scoped>\n",
              "    .dataframe tbody tr th:only-of-type {\n",
              "        vertical-align: middle;\n",
              "    }\n",
              "\n",
              "    .dataframe tbody tr th {\n",
              "        vertical-align: top;\n",
              "    }\n",
              "\n",
              "    .dataframe thead th {\n",
              "        text-align: right;\n",
              "    }\n",
              "</style>\n",
              "<table border=\"1\" class=\"dataframe\">\n",
              "  <thead>\n",
              "    <tr style=\"text-align: right;\">\n",
              "      <th></th>\n",
              "      <th>Visit_Date</th>\n",
              "      <th>CustomerID</th>\n",
              "      <th>Total_Purchases_In_USD</th>\n",
              "    </tr>\n",
              "  </thead>\n",
              "  <tbody>\n",
              "    <tr>\n",
              "      <th>0</th>\n",
              "      <td>9/17/2014</td>\n",
              "      <td>104790628</td>\n",
              "      <td>51.36</td>\n",
              "    </tr>\n",
              "    <tr>\n",
              "      <th>1</th>\n",
              "      <td>9/17/2014</td>\n",
              "      <td>6927608</td>\n",
              "      <td>77.04</td>\n",
              "    </tr>\n",
              "    <tr>\n",
              "      <th>2</th>\n",
              "      <td>9/17/2014</td>\n",
              "      <td>1078961990</td>\n",
              "      <td>85.60</td>\n",
              "    </tr>\n",
              "    <tr>\n",
              "      <th>3</th>\n",
              "      <td>9/17/2014</td>\n",
              "      <td>1034571766</td>\n",
              "      <td>85.60</td>\n",
              "    </tr>\n",
              "    <tr>\n",
              "      <th>4</th>\n",
              "      <td>9/17/2014</td>\n",
              "      <td>1094103886</td>\n",
              "      <td>51.36</td>\n",
              "    </tr>\n",
              "    <tr>\n",
              "      <th>...</th>\n",
              "      <td>...</td>\n",
              "      <td>...</td>\n",
              "      <td>...</td>\n",
              "    </tr>\n",
              "    <tr>\n",
              "      <th>467523</th>\n",
              "      <td>10/4/2014</td>\n",
              "      <td>828458332</td>\n",
              "      <td>171.20</td>\n",
              "    </tr>\n",
              "    <tr>\n",
              "      <th>467524</th>\n",
              "      <td>10/4/2014</td>\n",
              "      <td>623985510</td>\n",
              "      <td>136.96</td>\n",
              "    </tr>\n",
              "    <tr>\n",
              "      <th>467525</th>\n",
              "      <td>10/4/2014</td>\n",
              "      <td>104928130</td>\n",
              "      <td>171.20</td>\n",
              "    </tr>\n",
              "    <tr>\n",
              "      <th>467526</th>\n",
              "      <td>10/4/2014</td>\n",
              "      <td>48169222</td>\n",
              "      <td>171.20</td>\n",
              "    </tr>\n",
              "    <tr>\n",
              "      <th>467527</th>\n",
              "      <td>10/4/2014</td>\n",
              "      <td>112477</td>\n",
              "      <td>NaN</td>\n",
              "    </tr>\n",
              "  </tbody>\n",
              "</table>\n",
              "<p>467528 rows × 3 columns</p>\n",
              "</div>\n",
              "    <div class=\"colab-df-buttons\">\n",
              "\n",
              "  <div class=\"colab-df-container\">\n",
              "    <button class=\"colab-df-convert\" onclick=\"convertToInteractive('df-cfefc77b-6a2d-41ac-9878-946cf490264e')\"\n",
              "            title=\"Convert this dataframe to an interactive table.\"\n",
              "            style=\"display:none;\">\n",
              "\n",
              "  <svg xmlns=\"http://www.w3.org/2000/svg\" height=\"24px\" viewBox=\"0 -960 960 960\">\n",
              "    <path d=\"M120-120v-720h720v720H120Zm60-500h600v-160H180v160Zm220 220h160v-160H400v160Zm0 220h160v-160H400v160ZM180-400h160v-160H180v160Zm440 0h160v-160H620v160ZM180-180h160v-160H180v160Zm440 0h160v-160H620v160Z\"/>\n",
              "  </svg>\n",
              "    </button>\n",
              "\n",
              "  <style>\n",
              "    .colab-df-container {\n",
              "      display:flex;\n",
              "      gap: 12px;\n",
              "    }\n",
              "\n",
              "    .colab-df-convert {\n",
              "      background-color: #E8F0FE;\n",
              "      border: none;\n",
              "      border-radius: 50%;\n",
              "      cursor: pointer;\n",
              "      display: none;\n",
              "      fill: #1967D2;\n",
              "      height: 32px;\n",
              "      padding: 0 0 0 0;\n",
              "      width: 32px;\n",
              "    }\n",
              "\n",
              "    .colab-df-convert:hover {\n",
              "      background-color: #E2EBFA;\n",
              "      box-shadow: 0px 1px 2px rgba(60, 64, 67, 0.3), 0px 1px 3px 1px rgba(60, 64, 67, 0.15);\n",
              "      fill: #174EA6;\n",
              "    }\n",
              "\n",
              "    .colab-df-buttons div {\n",
              "      margin-bottom: 4px;\n",
              "    }\n",
              "\n",
              "    [theme=dark] .colab-df-convert {\n",
              "      background-color: #3B4455;\n",
              "      fill: #D2E3FC;\n",
              "    }\n",
              "\n",
              "    [theme=dark] .colab-df-convert:hover {\n",
              "      background-color: #434B5C;\n",
              "      box-shadow: 0px 1px 3px 1px rgba(0, 0, 0, 0.15);\n",
              "      filter: drop-shadow(0px 1px 2px rgba(0, 0, 0, 0.3));\n",
              "      fill: #FFFFFF;\n",
              "    }\n",
              "  </style>\n",
              "\n",
              "    <script>\n",
              "      const buttonEl =\n",
              "        document.querySelector('#df-cfefc77b-6a2d-41ac-9878-946cf490264e button.colab-df-convert');\n",
              "      buttonEl.style.display =\n",
              "        google.colab.kernel.accessAllowed ? 'block' : 'none';\n",
              "\n",
              "      async function convertToInteractive(key) {\n",
              "        const element = document.querySelector('#df-cfefc77b-6a2d-41ac-9878-946cf490264e');\n",
              "        const dataTable =\n",
              "          await google.colab.kernel.invokeFunction('convertToInteractive',\n",
              "                                                    [key], {});\n",
              "        if (!dataTable) return;\n",
              "\n",
              "        const docLinkHtml = 'Like what you see? Visit the ' +\n",
              "          '<a target=\"_blank\" href=https://colab.research.google.com/notebooks/data_table.ipynb>data table notebook</a>'\n",
              "          + ' to learn more about interactive tables.';\n",
              "        element.innerHTML = '';\n",
              "        dataTable['output_type'] = 'display_data';\n",
              "        await google.colab.output.renderOutput(dataTable, element);\n",
              "        const docLink = document.createElement('div');\n",
              "        docLink.innerHTML = docLinkHtml;\n",
              "        element.appendChild(docLink);\n",
              "      }\n",
              "    </script>\n",
              "  </div>\n",
              "\n",
              "\n",
              "<div id=\"df-23c2fc53-c9ca-4aad-a39c-5ecc9dd86ae3\">\n",
              "  <button class=\"colab-df-quickchart\" onclick=\"quickchart('df-23c2fc53-c9ca-4aad-a39c-5ecc9dd86ae3')\"\n",
              "            title=\"Suggest charts\"\n",
              "            style=\"display:none;\">\n",
              "\n",
              "<svg xmlns=\"http://www.w3.org/2000/svg\" height=\"24px\"viewBox=\"0 0 24 24\"\n",
              "     width=\"24px\">\n",
              "    <g>\n",
              "        <path d=\"M19 3H5c-1.1 0-2 .9-2 2v14c0 1.1.9 2 2 2h14c1.1 0 2-.9 2-2V5c0-1.1-.9-2-2-2zM9 17H7v-7h2v7zm4 0h-2V7h2v10zm4 0h-2v-4h2v4z\"/>\n",
              "    </g>\n",
              "</svg>\n",
              "  </button>\n",
              "\n",
              "<style>\n",
              "  .colab-df-quickchart {\n",
              "      --bg-color: #E8F0FE;\n",
              "      --fill-color: #1967D2;\n",
              "      --hover-bg-color: #E2EBFA;\n",
              "      --hover-fill-color: #174EA6;\n",
              "      --disabled-fill-color: #AAA;\n",
              "      --disabled-bg-color: #DDD;\n",
              "  }\n",
              "\n",
              "  [theme=dark] .colab-df-quickchart {\n",
              "      --bg-color: #3B4455;\n",
              "      --fill-color: #D2E3FC;\n",
              "      --hover-bg-color: #434B5C;\n",
              "      --hover-fill-color: #FFFFFF;\n",
              "      --disabled-bg-color: #3B4455;\n",
              "      --disabled-fill-color: #666;\n",
              "  }\n",
              "\n",
              "  .colab-df-quickchart {\n",
              "    background-color: var(--bg-color);\n",
              "    border: none;\n",
              "    border-radius: 50%;\n",
              "    cursor: pointer;\n",
              "    display: none;\n",
              "    fill: var(--fill-color);\n",
              "    height: 32px;\n",
              "    padding: 0;\n",
              "    width: 32px;\n",
              "  }\n",
              "\n",
              "  .colab-df-quickchart:hover {\n",
              "    background-color: var(--hover-bg-color);\n",
              "    box-shadow: 0 1px 2px rgba(60, 64, 67, 0.3), 0 1px 3px 1px rgba(60, 64, 67, 0.15);\n",
              "    fill: var(--button-hover-fill-color);\n",
              "  }\n",
              "\n",
              "  .colab-df-quickchart-complete:disabled,\n",
              "  .colab-df-quickchart-complete:disabled:hover {\n",
              "    background-color: var(--disabled-bg-color);\n",
              "    fill: var(--disabled-fill-color);\n",
              "    box-shadow: none;\n",
              "  }\n",
              "\n",
              "  .colab-df-spinner {\n",
              "    border: 2px solid var(--fill-color);\n",
              "    border-color: transparent;\n",
              "    border-bottom-color: var(--fill-color);\n",
              "    animation:\n",
              "      spin 1s steps(1) infinite;\n",
              "  }\n",
              "\n",
              "  @keyframes spin {\n",
              "    0% {\n",
              "      border-color: transparent;\n",
              "      border-bottom-color: var(--fill-color);\n",
              "      border-left-color: var(--fill-color);\n",
              "    }\n",
              "    20% {\n",
              "      border-color: transparent;\n",
              "      border-left-color: var(--fill-color);\n",
              "      border-top-color: var(--fill-color);\n",
              "    }\n",
              "    30% {\n",
              "      border-color: transparent;\n",
              "      border-left-color: var(--fill-color);\n",
              "      border-top-color: var(--fill-color);\n",
              "      border-right-color: var(--fill-color);\n",
              "    }\n",
              "    40% {\n",
              "      border-color: transparent;\n",
              "      border-right-color: var(--fill-color);\n",
              "      border-top-color: var(--fill-color);\n",
              "    }\n",
              "    60% {\n",
              "      border-color: transparent;\n",
              "      border-right-color: var(--fill-color);\n",
              "    }\n",
              "    80% {\n",
              "      border-color: transparent;\n",
              "      border-right-color: var(--fill-color);\n",
              "      border-bottom-color: var(--fill-color);\n",
              "    }\n",
              "    90% {\n",
              "      border-color: transparent;\n",
              "      border-bottom-color: var(--fill-color);\n",
              "    }\n",
              "  }\n",
              "</style>\n",
              "\n",
              "  <script>\n",
              "    async function quickchart(key) {\n",
              "      const quickchartButtonEl =\n",
              "        document.querySelector('#' + key + ' button');\n",
              "      quickchartButtonEl.disabled = true;  // To prevent multiple clicks.\n",
              "      quickchartButtonEl.classList.add('colab-df-spinner');\n",
              "      try {\n",
              "        const charts = await google.colab.kernel.invokeFunction(\n",
              "            'suggestCharts', [key], {});\n",
              "      } catch (error) {\n",
              "        console.error('Error during call to suggestCharts:', error);\n",
              "      }\n",
              "      quickchartButtonEl.classList.remove('colab-df-spinner');\n",
              "      quickchartButtonEl.classList.add('colab-df-quickchart-complete');\n",
              "    }\n",
              "    (() => {\n",
              "      let quickchartButtonEl =\n",
              "        document.querySelector('#df-23c2fc53-c9ca-4aad-a39c-5ecc9dd86ae3 button');\n",
              "      quickchartButtonEl.style.display =\n",
              "        google.colab.kernel.accessAllowed ? 'block' : 'none';\n",
              "    })();\n",
              "  </script>\n",
              "</div>\n",
              "\n",
              "  <div id=\"id_b4f7c719-5e6e-431c-a486-e32720d351ca\">\n",
              "    <style>\n",
              "      .colab-df-generate {\n",
              "        background-color: #E8F0FE;\n",
              "        border: none;\n",
              "        border-radius: 50%;\n",
              "        cursor: pointer;\n",
              "        display: none;\n",
              "        fill: #1967D2;\n",
              "        height: 32px;\n",
              "        padding: 0 0 0 0;\n",
              "        width: 32px;\n",
              "      }\n",
              "\n",
              "      .colab-df-generate:hover {\n",
              "        background-color: #E2EBFA;\n",
              "        box-shadow: 0px 1px 2px rgba(60, 64, 67, 0.3), 0px 1px 3px 1px rgba(60, 64, 67, 0.15);\n",
              "        fill: #174EA6;\n",
              "      }\n",
              "\n",
              "      [theme=dark] .colab-df-generate {\n",
              "        background-color: #3B4455;\n",
              "        fill: #D2E3FC;\n",
              "      }\n",
              "\n",
              "      [theme=dark] .colab-df-generate:hover {\n",
              "        background-color: #434B5C;\n",
              "        box-shadow: 0px 1px 3px 1px rgba(0, 0, 0, 0.15);\n",
              "        filter: drop-shadow(0px 1px 2px rgba(0, 0, 0, 0.3));\n",
              "        fill: #FFFFFF;\n",
              "      }\n",
              "    </style>\n",
              "    <button class=\"colab-df-generate\" onclick=\"generateWithVariable('data')\"\n",
              "            title=\"Generate code using this dataframe.\"\n",
              "            style=\"display:none;\">\n",
              "\n",
              "  <svg xmlns=\"http://www.w3.org/2000/svg\" height=\"24px\"viewBox=\"0 0 24 24\"\n",
              "       width=\"24px\">\n",
              "    <path d=\"M7,19H8.4L18.45,9,17,7.55,7,17.6ZM5,21V16.75L18.45,3.32a2,2,0,0,1,2.83,0l1.4,1.43a1.91,1.91,0,0,1,.58,1.4,1.91,1.91,0,0,1-.58,1.4L9.25,21ZM18.45,9,17,7.55Zm-12,3A5.31,5.31,0,0,0,4.9,8.1,5.31,5.31,0,0,0,1,6.5,5.31,5.31,0,0,0,4.9,4.9,5.31,5.31,0,0,0,6.5,1,5.31,5.31,0,0,0,8.1,4.9,5.31,5.31,0,0,0,12,6.5,5.46,5.46,0,0,0,6.5,12Z\"/>\n",
              "  </svg>\n",
              "    </button>\n",
              "    <script>\n",
              "      (() => {\n",
              "      const buttonEl =\n",
              "        document.querySelector('#id_b4f7c719-5e6e-431c-a486-e32720d351ca button.colab-df-generate');\n",
              "      buttonEl.style.display =\n",
              "        google.colab.kernel.accessAllowed ? 'block' : 'none';\n",
              "\n",
              "      buttonEl.onclick = () => {\n",
              "        google.colab.notebook.generateWithVariable('data');\n",
              "      }\n",
              "      })();\n",
              "    </script>\n",
              "  </div>\n",
              "\n",
              "    </div>\n",
              "  </div>\n"
            ],
            "application/vnd.google.colaboratory.intrinsic+json": {
              "type": "dataframe",
              "variable_name": "data"
            }
          },
          "metadata": {},
          "execution_count": 13
        }
      ]
    },
    {
      "cell_type": "markdown",
      "source": [
        "Making a new dataset and saving it in a new file"
      ],
      "metadata": {
        "id": "C3k58MCTdhZd"
      }
    },
    {
      "cell_type": "code",
      "source": [
        "feature_set.to_csv('generated_features.csv', index=False)"
      ],
      "metadata": {
        "id": "C6lipt4JdU_l"
      },
      "execution_count": null,
      "outputs": []
    },
    {
      "cell_type": "markdown",
      "source": [
        "Visualizations"
      ],
      "metadata": {
        "id": "wKQgtSFZdtHJ"
      }
    },
    {
      "cell_type": "code",
      "source": [
        "import matplotlib.pyplot as plt"
      ],
      "metadata": {
        "id": "sfwx7uGMd89R"
      },
      "execution_count": null,
      "outputs": []
    },
    {
      "cell_type": "markdown",
      "source": [
        "1- Histogram"
      ],
      "metadata": {
        "id": "avur11p8dxjJ"
      }
    },
    {
      "cell_type": "code",
      "source": [
        "plt.hist(df['Total_Purchases_In_USD'], bins=30, color='purple', edgecolor='black')\n",
        "plt.title('Distribution of Customer Spending')\n",
        "plt.xlabel('Total Spending')\n",
        "plt.ylabel('Frequency')\n",
        "plt.show()\n"
      ],
      "metadata": {
        "colab": {
          "base_uri": "https://localhost:8080/",
          "height": 472
        },
        "id": "ftiz06H8d7Q0",
        "outputId": "49423b21-8328-4c6e-bc54-b74be5b3d21a"
      },
      "execution_count": null,
      "outputs": [
        {
          "output_type": "display_data",
          "data": {
            "text/plain": [
              "<Figure size 640x480 with 1 Axes>"
            ],
            "image/png": "[encoded data removed]"
          },
          "metadata": {}
        }
      ]
    },
    {
      "cell_type": "markdown",
      "source": [
        "2-Line Chart"
      ],
      "metadata": {
        "id": "Es7Vrb9eecUs"
      }
    },
    {
      "cell_type": "code",
      "source": [
        "# Resample the data to weekly frequency\n",
        "weekly_sales = df.resample('W', on='Visit_Date')['Total_Purchases_In_USD'].sum().fillna(0)\n",
        "\n",
        "# Plot the line chart\n",
        "weekly_sales.plot(figsize=(12, 6), color='blue')\n",
        "plt.title('Trend in Sales over the Weeks')\n",
        "plt.xlabel('Week')\n",
        "plt.ylabel('Total Sales')\n",
        "plt.show()\n"
      ],
      "metadata": {
        "colab": {
          "base_uri": "https://localhost:8080/",
          "height": 613
        },
        "id": "SCCEGxm2egjG",
        "outputId": "9cd3f9b3-af49-4837-c948-6af92694c43c"
      },
      "execution_count": null,
      "outputs": [
        {
          "output_type": "display_data",
          "data": {
            "text/plain": [
              "<Figure size 1200x600 with 1 Axes>"
            ],
            "image/png": "[encoded data removed]"
          },
          "metadata": {}
        }
      ]
    },
    {
      "cell_type": "markdown",
      "source": [
        "3- Pie Chart"
      ],
      "metadata": {
        "id": "zJhvepGwewQq"
      }
    },
    {
      "cell_type": "code",
      "source": [
        "# Calculate the percentage of each category\n",
        "category_counts = df['Customer_Category'].value_counts()\n",
        "category_percentages = category_counts / len(df) * 100\n",
        "\n",
        "# Create a pie chart\n",
        "plt.pie(category_percentages, labels=category_counts.index, autopct='%1.1f%%')\n",
        "plt.title('Customer Category Distribution')\n",
        "plt.show()\n"
      ],
      "metadata": {
        "colab": {
          "base_uri": "https://localhost:8080/",
          "height": 428
        },
        "id": "0yt6N5kqeog6",
        "outputId": "fbb04b48-31bf-489b-d8dc-d4af6da1a310"
      },
      "execution_count": null,
      "outputs": [
        {
          "output_type": "display_data",
          "data": {
            "text/plain": [
              "<Figure size 640x480 with 1 Axes>"
            ],
            "image/png": "[encoded data removed]"
          },
          "metadata": {}
        }
      ]
    },
    {
      "cell_type": "code",
      "source": [],
      "metadata": {
        "id": "YDaB38WUe8i4"
      },
      "execution_count": null,
      "outputs": []
    }
  ]
}