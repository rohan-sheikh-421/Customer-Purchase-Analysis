{
  "nbformat": 4,
  "nbformat_minor": 0,
  "metadata": {
    "colab": {
      "provenance": []
    },
    "kernelspec": {
      "name": "python3",
      "display_name": "Python 3"
    },
    "language_info": {
      "name": "python"
    }
  },
  "cells": [
    {
      "cell_type": "code",
      "source": [
        "import pandas as pd\n",
        "import matplotlib.pyplot as plt"
      ],
      "metadata": {
        "id": "TGtJPsJ-Xf4n"
      },
      "execution_count": 1,
      "outputs": []
    },
    {
      "source": [
        "# Load the dataset\n",
        "df = pd.read_csv('/content/Retail_Customer.csv')\n",
        "\n",
        "# Convert 'Visit_Date' column to datetime\n",
        "df['Visit_Date'] = pd.to_datetime(df['Visit_Date'])\n",
        "\n",
        "# Calculate the reference date (last date of 5th week)\n",
        "reference_date = df['Visit_Date'].max() - pd.DateOffset(weeks=5)\n",
        "\n",
        "# Filter data based on the reference date\n",
        "feature_set = df[df['Visit_Date'] >= reference_date]\n",
        "\n",
        "feature_set = feature_set[['CustomerID', 'Total_Purchases_In_USD']]\n",
        "\n",
        "# Print the processed feature set\n",
        "print(feature_set.head())"
      ],
      "cell_type": "code",
      "metadata": {
        "colab": {
          "base_uri": "https://localhost:8080/"
        },
        "id": "Dy9ghBC8P9uQ",
        "outputId": "c1617e7e-08fc-4a9d-8b95-8f04f142b21e"
      },
      "execution_count": 2,
      "outputs": [
        {
          "output_type": "stream",
          "name": "stdout",
          "text": [
            "   CustomerID  Total_Purchases_In_USD\n",
            "0   104790628                   51.36\n",
            "1     6927608                   77.04\n",
            "2  1078961990                   85.60\n",
            "3  1034571766                   85.60\n",
            "4  1094103886                   51.36\n"
          ]
        }
      ]
    },
    {
      "cell_type": "markdown",
      "source": [
        "new dataset"
      ],
      "metadata": {
        "id": "accAxyL-oXqS"
      }
    },
    {
      "cell_type": "code",
      "source": [
        "# Load the provided CSV file containing the data\n",
        "data = pd.read_csv('/content/Retail_Customer.csv')\n",
        "\n"
      ],
      "metadata": {
        "id": "vCEuzS2iybu_"
      },
      "execution_count": 2,
      "outputs": []
    },
    {
      "cell_type": "markdown",
      "source": [
        "Making New Features"
      ],
      "metadata": {
        "id": "6kHbkoz2ybFI"
      }
    },
    {
      "cell_type": "code",
      "source": [
        "# Function to calculate total revenue for each customer\n",
        "def calculate_total_revenue(df):\n",
        "    return df.groupby('CustomerID')['Total_Purchases_In_USD'].sum()\n",
        "\n",
        "# Function to calculate maximum purchase in a day for each customer\n",
        "def calculate_max_purchase_in_a_day(df):\n",
        "    return df.groupby('CustomerID')['Total_Purchases_In_USD'].max()\n",
        "\n",
        "# Function to calculate minimum purchase in a day for each customer\n",
        "def calculate_min_purchase_in_a_day(df):\n",
        "    return df.groupby('CustomerID')['Total_Purchases_In_USD'].min()\n",
        "\n",
        "# Function to calculate total visit days for each customer\n",
        "def calculate_total_visit_days(df):\n",
        "    return df.groupby('CustomerID').size()\n",
        "\n",
        "# Function to calculate standard deviation in sales for each customer\n",
        "def calculate_standard_deviation_in_sales(df):\n",
        "    return df.groupby('CustomerID')['Total_Purchases_In_USD'].std()\n",
        "\n",
        "# Now we'll apply these functions to our dataset\n",
        "new_features = pd.DataFrame({\n",
        "    'CUSTOMER_ID': data['CustomerID'].unique(),\n",
        "    'Total_Revenue': calculate_total_revenue(data),\n",
        "    'Max_Purchase_In_A_Day': calculate_max_purchase_in_a_day(data),\n",
        "    'Min_Purchase_In_A_Day': calculate_min_purchase_in_a_day(data),\n",
        "    'Total_Visit_Days': calculate_total_visit_days(data),\n",
        "    'Standard_Deviation_In_Sales': calculate_standard_deviation_in_sales(data)\n",
        "})\n",
        "\n",
        "# Step 4: Save the new features along with the existing data into a new CSV file\n",
        "merged_data = pd.merge(data, new_features, left_on='CustomerID', right_on='CUSTOMER_ID', how='left')\n",
        "merged_data.to_csv('new_data_with_features.csv', index=False)\n"
      ],
      "metadata": {
        "id": "GkMwoSFSvB4t"
      },
      "execution_count": 3,
      "outputs": []
    },
    {
      "cell_type": "markdown",
      "source": [
        "Pre-Processing the data"
      ],
      "metadata": {
        "id": "Nj0DsyJ_xKHB"
      }
    },
    {
      "cell_type": "code",
      "source": [
        "print(data.describe())"
      ],
      "metadata": {
        "colab": {
          "base_uri": "https://localhost:8080/"
        },
        "id": "gjVmMA73xJdn",
        "outputId": "0a544da7-1586-4ae9-b672-c50512dbeb64"
      },
      "execution_count": 4,
      "outputs": [
        {
          "output_type": "stream",
          "name": "stdout",
          "text": [
            "         CustomerID  Total_Purchases_In_USD\n",
            "count  8.708110e+05           870811.000000\n",
            "mean   5.874357e+08              135.710042\n",
            "std    4.831621e+08              161.098219\n",
            "min    4.880000e+02                0.000000\n",
            "25%    8.845767e+07               77.040000\n",
            "50%    7.439495e+08               85.600000\n",
            "75%    1.079580e+09              171.200000\n",
            "max    1.208801e+09            34240.000000\n"
          ]
        }
      ]
    },
    {
      "cell_type": "markdown",
      "source": [
        "Checking Dataset"
      ],
      "metadata": {
        "id": "2CGEcvl7XjUK"
      }
    },
    {
      "source": [
        "print(feature_set.head())\n",
        "print(feature_set.info())"
      ],
      "cell_type": "code",
      "metadata": {
        "colab": {
          "base_uri": "https://localhost:8080/"
        },
        "id": "xKvksGaxQi-j",
        "outputId": "0b087293-bbd6-481b-fbe1-bb6bdf532fbd"
      },
      "execution_count": 19,
      "outputs": [
        {
          "output_type": "stream",
          "name": "stdout",
          "text": [
            "   CustomerID  Total_Purchases_In_USD\n",
            "0   104790628                   51.36\n",
            "1     6927608                   77.04\n",
            "2  1078961990                   85.60\n",
            "3  1034571766                   85.60\n",
            "4  1094103886                   51.36\n",
            "<class 'pandas.core.frame.DataFrame'>\n",
            "Int64Index: 870811 entries, 0 to 870810\n",
            "Data columns (total 2 columns):\n",
            " #   Column                  Non-Null Count   Dtype  \n",
            "---  ------                  --------------   -----  \n",
            " 0   CustomerID              870811 non-null  int64  \n",
            " 1   Total_Purchases_In_USD  870811 non-null  float64\n",
            "dtypes: float64(1), int64(1)\n",
            "memory usage: 19.9 MB\n",
            "None\n"
          ]
        }
      ]
    },
    {
      "cell_type": "markdown",
      "source": [
        "Highest Spending"
      ],
      "metadata": {
        "id": "sTg7SmnkQLGS"
      }
    },
    {
      "cell_type": "code",
      "source": [
        "# sum of purchases per customer in the last 5 weeks\n",
        "weekly_purchases = feature_set.groupby('CustomerID')['Total_Purchases_In_USD'].sum()\n",
        "\n",
        "# customer with the highest purchase\n",
        "highest_purchase_customer_id = weekly_purchases.idxmax()\n",
        "\n",
        "# highest purchase amount\n",
        "highest_purchase_amount = weekly_purchases[highest_purchase_customer_id]\n",
        "\n",
        "# results\n",
        "print(f\"Customer with ID {highest_purchase_customer_id} had the highest purchase of {highest_purchase_amount:.2f} in the last 5 weeks.\")\n"
      ],
      "metadata": {
        "colab": {
          "base_uri": "https://localhost:8080/"
        },
        "id": "l4QkREMmQWJy",
        "outputId": "e30f477c-f78d-4b2c-ea7a-68369ba86803"
      },
      "execution_count": 20,
      "outputs": [
        {
          "output_type": "stream",
          "name": "stdout",
          "text": [
            "Customer with ID 1032283346 had the highest purchase of 53414.40 in the last 5 weeks.\n"
          ]
        }
      ]
    },
    {
      "cell_type": "markdown",
      "source": [
        "Most Valued Customer"
      ],
      "metadata": {
        "id": "7nSXTuAsR8mq"
      }
    },
    {
      "cell_type": "code",
      "source": [
        "print(f\"Customer with ID {highest_purchase_customer_id} is the most valued customer with total purchases of {highest_purchase_amount:.2f} in the last 5 weeks.\")\n"
      ],
      "metadata": {
        "colab": {
          "base_uri": "https://localhost:8080/"
        },
        "id": "7T51fwo1Xu2o",
        "outputId": "a2c1b8cd-4cd7-45af-eee3-9f2edc024efd"
      },
      "execution_count": 21,
      "outputs": [
        {
          "output_type": "stream",
          "name": "stdout",
          "text": [
            "Customer with ID 1032283346 is the most valued customer with total purchases of 53414.40 in the last 5 weeks.\n"
          ]
        }
      ]
    },
    {
      "cell_type": "markdown",
      "source": [
        "Making categories of Customers"
      ],
      "metadata": {
        "id": "oaajwbNcR6oh"
      }
    },
    {
      "cell_type": "code",
      "source": [
        "# thresholds\n",
        "poor_threshold = 500\n",
        "mediocre_threshold = 1000\n",
        "\n",
        "# new column for customer category\n",
        "df['Customer_Category'] = 'Unknown'\n",
        "\n",
        "# Categorize customers based on their spending\n",
        "feature_set.loc[feature_set['Total_Purchases_In_USD'] < poor_threshold, 'Customer_Category'] = 'Poor'\n",
        "feature_set.loc[(feature_set['Total_Purchases_In_USD'] >= poor_threshold) & (feature_set['Total_Purchases_In_USD'] < mediocre_threshold), 'Customer_Category'] = 'Mediocre'\n",
        "feature_set.loc[feature_set['Total_Purchases_In_USD'] >= mediocre_threshold, 'Customer_Category'] = 'Rich'\n",
        "\n",
        "# customer categories\n",
        "print(feature_set['Customer_Category'].value_counts())\n"
      ],
      "metadata": {
        "colab": {
          "base_uri": "https://localhost:8080/"
        },
        "id": "UwHBWCxpSVwg",
        "outputId": "eead9821-3821-4da4-a926-93c811e49d6a"
      },
      "execution_count": 22,
      "outputs": [
        {
          "output_type": "stream",
          "name": "stdout",
          "text": [
            "Poor        852029\n",
            "Mediocre     16852\n",
            "Rich          1930\n",
            "Name: Customer_Category, dtype: int64\n"
          ]
        }
      ]
    },
    {
      "cell_type": "markdown",
      "source": [
        "Displaying the new dataset\n"
      ],
      "metadata": {
        "id": "RB-P9ibpTx3I"
      }
    },
    {
      "cell_type": "code",
      "source": [
        "df"
      ],
      "metadata": {
        "colab": {
          "base_uri": "https://localhost:8080/",
          "height": 424
        },
        "id": "IW_6YmogTtlA",
        "outputId": "d362eca6-c17a-42d5-e984-338602ccf41a"
      },
      "execution_count": 23,
      "outputs": [
        {
          "output_type": "execute_result",
          "data": {
            "text/plain": [
              "       Visit_Date  CustomerID  Total_Purchases_In_USD Customer_Category\n",
              "0      2014-09-17   104790628                   51.36           Unknown\n",
              "1      2014-09-17     6927608                   77.04           Unknown\n",
              "2      2014-09-17  1078961990                   85.60           Unknown\n",
              "3      2014-09-17  1034571766                   85.60           Unknown\n",
              "4      2014-09-17  1094103886                   51.36           Unknown\n",
              "...           ...         ...                     ...               ...\n",
              "870806 2014-10-19   284103422                  171.20           Unknown\n",
              "870807 2014-10-19   972926064                   85.60           Unknown\n",
              "870808 2014-10-19   100547838                   51.36           Unknown\n",
              "870809 2014-10-19   155665868                  171.20           Unknown\n",
              "870810 2014-10-19   168900390                   85.60           Unknown\n",
              "\n",
              "[870811 rows x 4 columns]"
            ],
            "text/html": [
              "\n",
              "  <div id=\"df-a475e218-7f62-4aa1-b2ed-1d7d479ca262\" class=\"colab-df-container\">\n",
              "    <div>\n",
              "<style scoped>\n",
              "    .dataframe tbody tr th:only-of-type {\n",
              "        vertical-align: middle;\n",
              "    }\n",
              "\n",
              "    .dataframe tbody tr th {\n",
              "        vertical-align: top;\n",
              "    }\n",
              "\n",
              "    .dataframe thead th {\n",
              "        text-align: right;\n",
              "    }\n",
              "</style>\n",
              "<table border=\"1\" class=\"dataframe\">\n",
              "  <thead>\n",
              "    <tr style=\"text-align: right;\">\n",
              "      <th></th>\n",
              "      <th>Visit_Date</th>\n",
              "      <th>CustomerID</th>\n",
              "      <th>Total_Purchases_In_USD</th>\n",
              "      <th>Customer_Category</th>\n",
              "    </tr>\n",
              "  </thead>\n",
              "  <tbody>\n",
              "    <tr>\n",
              "      <th>0</th>\n",
              "      <td>2014-09-17</td>\n",
              "      <td>104790628</td>\n",
              "      <td>51.36</td>\n",
              "      <td>Unknown</td>\n",
              "    </tr>\n",
              "    <tr>\n",
              "      <th>1</th>\n",
              "      <td>2014-09-17</td>\n",
              "      <td>6927608</td>\n",
              "      <td>77.04</td>\n",
              "      <td>Unknown</td>\n",
              "    </tr>\n",
              "    <tr>\n",
              "      <th>2</th>\n",
              "      <td>2014-09-17</td>\n",
              "      <td>1078961990</td>\n",
              "      <td>85.60</td>\n",
              "      <td>Unknown</td>\n",
              "    </tr>\n",
              "    <tr>\n",
              "      <th>3</th>\n",
              "      <td>2014-09-17</td>\n",
              "      <td>1034571766</td>\n",
              "      <td>85.60</td>\n",
              "      <td>Unknown</td>\n",
              "    </tr>\n",
              "    <tr>\n",
              "      <th>4</th>\n",
              "      <td>2014-09-17</td>\n",
              "      <td>1094103886</td>\n",
              "      <td>51.36</td>\n",
              "      <td>Unknown</td>\n",
              "    </tr>\n",
              "    <tr>\n",
              "      <th>...</th>\n",
              "      <td>...</td>\n",
              "      <td>...</td>\n",
              "      <td>...</td>\n",
              "      <td>...</td>\n",
              "    </tr>\n",
              "    <tr>\n",
              "      <th>870806</th>\n",
              "      <td>2014-10-19</td>\n",
              "      <td>284103422</td>\n",
              "      <td>171.20</td>\n",
              "      <td>Unknown</td>\n",
              "    </tr>\n",
              "    <tr>\n",
              "      <th>870807</th>\n",
              "      <td>2014-10-19</td>\n",
              "      <td>972926064</td>\n",
              "      <td>85.60</td>\n",
              "      <td>Unknown</td>\n",
              "    </tr>\n",
              "    <tr>\n",
              "      <th>870808</th>\n",
              "      <td>2014-10-19</td>\n",
              "      <td>100547838</td>\n",
              "      <td>51.36</td>\n",
              "      <td>Unknown</td>\n",
              "    </tr>\n",
              "    <tr>\n",
              "      <th>870809</th>\n",
              "      <td>2014-10-19</td>\n",
              "      <td>155665868</td>\n",
              "      <td>171.20</td>\n",
              "      <td>Unknown</td>\n",
              "    </tr>\n",
              "    <tr>\n",
              "      <th>870810</th>\n",
              "      <td>2014-10-19</td>\n",
              "      <td>168900390</td>\n",
              "      <td>85.60</td>\n",
              "      <td>Unknown</td>\n",
              "    </tr>\n",
              "  </tbody>\n",
              "</table>\n",
              "<p>870811 rows × 4 columns</p>\n",
              "</div>\n",
              "    <div class=\"colab-df-buttons\">\n",
              "\n",
              "  <div class=\"colab-df-container\">\n",
              "    <button class=\"colab-df-convert\" onclick=\"convertToInteractive('df-a475e218-7f62-4aa1-b2ed-1d7d479ca262')\"\n",
              "            title=\"Convert this dataframe to an interactive table.\"\n",
              "            style=\"display:none;\">\n",
              "\n",
              "  <svg xmlns=\"http://www.w3.org/2000/svg\" height=\"24px\" viewBox=\"0 -960 960 960\">\n",
              "    <path d=\"M120-120v-720h720v720H120Zm60-500h600v-160H180v160Zm220 220h160v-160H400v160Zm0 220h160v-160H400v160ZM180-400h160v-160H180v160Zm440 0h160v-160H620v160ZM180-180h160v-160H180v160Zm440 0h160v-160H620v160Z\"/>\n",
              "  </svg>\n",
              "    </button>\n",
              "\n",
              "  <style>\n",
              "    .colab-df-container {\n",
              "      display:flex;\n",
              "      gap: 12px;\n",
              "    }\n",
              "\n",
              "    .colab-df-convert {\n",
              "      background-color: #E8F0FE;\n",
              "      border: none;\n",
              "      border-radius: 50%;\n",
              "      cursor: pointer;\n",
              "      display: none;\n",
              "      fill: #1967D2;\n",
              "      height: 32px;\n",
              "      padding: 0 0 0 0;\n",
              "      width: 32px;\n",
              "    }\n",
              "\n",
              "    .colab-df-convert:hover {\n",
              "      background-color: #E2EBFA;\n",
              "      box-shadow: 0px 1px 2px rgba(60, 64, 67, 0.3), 0px 1px 3px 1px rgba(60, 64, 67, 0.15);\n",
              "      fill: #174EA6;\n",
              "    }\n",
              "\n",
              "    .colab-df-buttons div {\n",
              "      margin-bottom: 4px;\n",
              "    }\n",
              "\n",
              "    [theme=dark] .colab-df-convert {\n",
              "      background-color: #3B4455;\n",
              "      fill: #D2E3FC;\n",
              "    }\n",
              "\n",
              "    [theme=dark] .colab-df-convert:hover {\n",
              "      background-color: #434B5C;\n",
              "      box-shadow: 0px 1px 3px 1px rgba(0, 0, 0, 0.15);\n",
              "      filter: drop-shadow(0px 1px 2px rgba(0, 0, 0, 0.3));\n",
              "      fill: #FFFFFF;\n",
              "    }\n",
              "  </style>\n",
              "\n",
              "    <script>\n",
              "      const buttonEl =\n",
              "        document.querySelector('#df-a475e218-7f62-4aa1-b2ed-1d7d479ca262 button.colab-df-convert');\n",
              "      buttonEl.style.display =\n",
              "        google.colab.kernel.accessAllowed ? 'block' : 'none';\n",
              "\n",
              "      async function convertToInteractive(key) {\n",
              "        const element = document.querySelector('#df-a475e218-7f62-4aa1-b2ed-1d7d479ca262');\n",
              "        const dataTable =\n",
              "          await google.colab.kernel.invokeFunction('convertToInteractive',\n",
              "                                                    [key], {});\n",
              "        if (!dataTable) return;\n",
              "\n",
              "        const docLinkHtml = 'Like what you see? Visit the ' +\n",
              "          '<a target=\"_blank\" href=https://colab.research.google.com/notebooks/data_table.ipynb>data table notebook</a>'\n",
              "          + ' to learn more about interactive tables.';\n",
              "        element.innerHTML = '';\n",
              "        dataTable['output_type'] = 'display_data';\n",
              "        await google.colab.output.renderOutput(dataTable, element);\n",
              "        const docLink = document.createElement('div');\n",
              "        docLink.innerHTML = docLinkHtml;\n",
              "        element.appendChild(docLink);\n",
              "      }\n",
              "    </script>\n",
              "  </div>\n",
              "\n",
              "\n",
              "<div id=\"df-47777c73-b733-4727-bf97-69495948f257\">\n",
              "  <button class=\"colab-df-quickchart\" onclick=\"quickchart('df-47777c73-b733-4727-bf97-69495948f257')\"\n",
              "            title=\"Suggest charts\"\n",
              "            style=\"display:none;\">\n",
              "\n",
              "<svg xmlns=\"http://www.w3.org/2000/svg\" height=\"24px\"viewBox=\"0 0 24 24\"\n",
              "     width=\"24px\">\n",
              "    <g>\n",
              "        <path d=\"M19 3H5c-1.1 0-2 .9-2 2v14c0 1.1.9 2 2 2h14c1.1 0 2-.9 2-2V5c0-1.1-.9-2-2-2zM9 17H7v-7h2v7zm4 0h-2V7h2v10zm4 0h-2v-4h2v4z\"/>\n",
              "    </g>\n",
              "</svg>\n",
              "  </button>\n",
              "\n",
              "<style>\n",
              "  .colab-df-quickchart {\n",
              "      --bg-color: #E8F0FE;\n",
              "      --fill-color: #1967D2;\n",
              "      --hover-bg-color: #E2EBFA;\n",
              "      --hover-fill-color: #174EA6;\n",
              "      --disabled-fill-color: #AAA;\n",
              "      --disabled-bg-color: #DDD;\n",
              "  }\n",
              "\n",
              "  [theme=dark] .colab-df-quickchart {\n",
              "      --bg-color: #3B4455;\n",
              "      --fill-color: #D2E3FC;\n",
              "      --hover-bg-color: #434B5C;\n",
              "      --hover-fill-color: #FFFFFF;\n",
              "      --disabled-bg-color: #3B4455;\n",
              "      --disabled-fill-color: #666;\n",
              "  }\n",
              "\n",
              "  .colab-df-quickchart {\n",
              "    background-color: var(--bg-color);\n",
              "    border: none;\n",
              "    border-radius: 50%;\n",
              "    cursor: pointer;\n",
              "    display: none;\n",
              "    fill: var(--fill-color);\n",
              "    height: 32px;\n",
              "    padding: 0;\n",
              "    width: 32px;\n",
              "  }\n",
              "\n",
              "  .colab-df-quickchart:hover {\n",
              "    background-color: var(--hover-bg-color);\n",
              "    box-shadow: 0 1px 2px rgba(60, 64, 67, 0.3), 0 1px 3px 1px rgba(60, 64, 67, 0.15);\n",
              "    fill: var(--button-hover-fill-color);\n",
              "  }\n",
              "\n",
              "  .colab-df-quickchart-complete:disabled,\n",
              "  .colab-df-quickchart-complete:disabled:hover {\n",
              "    background-color: var(--disabled-bg-color);\n",
              "    fill: var(--disabled-fill-color);\n",
              "    box-shadow: none;\n",
              "  }\n",
              "\n",
              "  .colab-df-spinner {\n",
              "    border: 2px solid var(--fill-color);\n",
              "    border-color: transparent;\n",
              "    border-bottom-color: var(--fill-color);\n",
              "    animation:\n",
              "      spin 1s steps(1) infinite;\n",
              "  }\n",
              "\n",
              "  @keyframes spin {\n",
              "    0% {\n",
              "      border-color: transparent;\n",
              "      border-bottom-color: var(--fill-color);\n",
              "      border-left-color: var(--fill-color);\n",
              "    }\n",
              "    20% {\n",
              "      border-color: transparent;\n",
              "      border-left-color: var(--fill-color);\n",
              "      border-top-color: var(--fill-color);\n",
              "    }\n",
              "    30% {\n",
              "      border-color: transparent;\n",
              "      border-left-color: var(--fill-color);\n",
              "      border-top-color: var(--fill-color);\n",
              "      border-right-color: var(--fill-color);\n",
              "    }\n",
              "    40% {\n",
              "      border-color: transparent;\n",
              "      border-right-color: var(--fill-color);\n",
              "      border-top-color: var(--fill-color);\n",
              "    }\n",
              "    60% {\n",
              "      border-color: transparent;\n",
              "      border-right-color: var(--fill-color);\n",
              "    }\n",
              "    80% {\n",
              "      border-color: transparent;\n",
              "      border-right-color: var(--fill-color);\n",
              "      border-bottom-color: var(--fill-color);\n",
              "    }\n",
              "    90% {\n",
              "      border-color: transparent;\n",
              "      border-bottom-color: var(--fill-color);\n",
              "    }\n",
              "  }\n",
              "</style>\n",
              "\n",
              "  <script>\n",
              "    async function quickchart(key) {\n",
              "      const quickchartButtonEl =\n",
              "        document.querySelector('#' + key + ' button');\n",
              "      quickchartButtonEl.disabled = true;  // To prevent multiple clicks.\n",
              "      quickchartButtonEl.classList.add('colab-df-spinner');\n",
              "      try {\n",
              "        const charts = await google.colab.kernel.invokeFunction(\n",
              "            'suggestCharts', [key], {});\n",
              "      } catch (error) {\n",
              "        console.error('Error during call to suggestCharts:', error);\n",
              "      }\n",
              "      quickchartButtonEl.classList.remove('colab-df-spinner');\n",
              "      quickchartButtonEl.classList.add('colab-df-quickchart-complete');\n",
              "    }\n",
              "    (() => {\n",
              "      let quickchartButtonEl =\n",
              "        document.querySelector('#df-47777c73-b733-4727-bf97-69495948f257 button');\n",
              "      quickchartButtonEl.style.display =\n",
              "        google.colab.kernel.accessAllowed ? 'block' : 'none';\n",
              "    })();\n",
              "  </script>\n",
              "</div>\n",
              "\n",
              "  <div id=\"id_073b30f4-8321-430c-8043-bfd2cec768a5\">\n",
              "    <style>\n",
              "      .colab-df-generate {\n",
              "        background-color: #E8F0FE;\n",
              "        border: none;\n",
              "        border-radius: 50%;\n",
              "        cursor: pointer;\n",
              "        display: none;\n",
              "        fill: #1967D2;\n",
              "        height: 32px;\n",
              "        padding: 0 0 0 0;\n",
              "        width: 32px;\n",
              "      }\n",
              "\n",
              "      .colab-df-generate:hover {\n",
              "        background-color: #E2EBFA;\n",
              "        box-shadow: 0px 1px 2px rgba(60, 64, 67, 0.3), 0px 1px 3px 1px rgba(60, 64, 67, 0.15);\n",
              "        fill: #174EA6;\n",
              "      }\n",
              "\n",
              "      [theme=dark] .colab-df-generate {\n",
              "        background-color: #3B4455;\n",
              "        fill: #D2E3FC;\n",
              "      }\n",
              "\n",
              "      [theme=dark] .colab-df-generate:hover {\n",
              "        background-color: #434B5C;\n",
              "        box-shadow: 0px 1px 3px 1px rgba(0, 0, 0, 0.15);\n",
              "        filter: drop-shadow(0px 1px 2px rgba(0, 0, 0, 0.3));\n",
              "        fill: #FFFFFF;\n",
              "      }\n",
              "    </style>\n",
              "    <button class=\"colab-df-generate\" onclick=\"generateWithVariable('df')\"\n",
              "            title=\"Generate code using this dataframe.\"\n",
              "            style=\"display:none;\">\n",
              "\n",
              "  <svg xmlns=\"http://www.w3.org/2000/svg\" height=\"24px\"viewBox=\"0 0 24 24\"\n",
              "       width=\"24px\">\n",
              "    <path d=\"M7,19H8.4L18.45,9,17,7.55,7,17.6ZM5,21V16.75L18.45,3.32a2,2,0,0,1,2.83,0l1.4,1.43a1.91,1.91,0,0,1,.58,1.4,1.91,1.91,0,0,1-.58,1.4L9.25,21ZM18.45,9,17,7.55Zm-12,3A5.31,5.31,0,0,0,4.9,8.1,5.31,5.31,0,0,0,1,6.5,5.31,5.31,0,0,0,4.9,4.9,5.31,5.31,0,0,0,6.5,1,5.31,5.31,0,0,0,8.1,4.9,5.31,5.31,0,0,0,12,6.5,5.46,5.46,0,0,0,6.5,12Z\"/>\n",
              "  </svg>\n",
              "    </button>\n",
              "    <script>\n",
              "      (() => {\n",
              "      const buttonEl =\n",
              "        document.querySelector('#id_073b30f4-8321-430c-8043-bfd2cec768a5 button.colab-df-generate');\n",
              "      buttonEl.style.display =\n",
              "        google.colab.kernel.accessAllowed ? 'block' : 'none';\n",
              "\n",
              "      buttonEl.onclick = () => {\n",
              "        google.colab.notebook.generateWithVariable('df');\n",
              "      }\n",
              "      })();\n",
              "    </script>\n",
              "  </div>\n",
              "\n",
              "    </div>\n",
              "  </div>\n"
            ],
            "application/vnd.google.colaboratory.intrinsic+json": {
              "type": "dataframe",
              "variable_name": "df"
            }
          },
          "metadata": {},
          "execution_count": 23
        }
      ]
    },
    {
      "cell_type": "markdown",
      "source": [
        "Saving the Dataset with added features"
      ],
      "metadata": {
        "id": "NSj05QtVY8G1"
      }
    },
    {
      "cell_type": "code",
      "source": [
        "feature_set.to_csv('generated_features.csv', index=False)\n"
      ],
      "metadata": {
        "id": "1htmiI51Yr-j"
      },
      "execution_count": null,
      "outputs": []
    },
    {
      "cell_type": "markdown",
      "source": [
        "Making Histogram for Customer Spending"
      ],
      "metadata": {
        "id": "WuJTOUPCSSm1"
      }
    },
    {
      "cell_type": "code",
      "source": [
        "plt.hist(total_spending, bins=30, color='skyblue', edgecolor='black')\n",
        "plt.title('Distribution of Customer Spending')\n",
        "plt.xlabel('Total Spending')\n",
        "plt.ylabel('Frequency')\n",
        "plt.show()\n"
      ],
      "metadata": {
        "colab": {
          "base_uri": "https://localhost:8080/",
          "height": 472
        },
        "id": "Dfa4jf2uU3Pz",
        "outputId": "e64fa728-c0d2-4f16-cf3e-aad59f0af7b2"
      },
      "execution_count": null,
      "outputs": [
        {
          "output_type": "display_data",
          "data": {
            "text/plain": [
              "<Figure size 640x480 with 1 Axes>"
            ],
            "image/png": "[encoded data removed]"
          },
          "metadata": {}
        }
      ]
    },
    {
      "cell_type": "markdown",
      "source": [
        "Making a Line Chart for Showing Trend in Sales over the weeks"
      ],
      "metadata": {
        "id": "0yfVk5ylZY2W"
      }
    },
    {
      "cell_type": "code",
      "source": [
        "weekly_earnings = df.groupby(df['Visit_Date'].dt.week)['Total_Purchases_In_USD'].sum()\n",
        "weekly_earnings.plot(kind='line', marker='o', color='green')\n",
        "plt.title('Weekly Earnings Trend')\n",
        "plt.xlabel('Week')\n",
        "plt.ylabel('Total Earnings')\n",
        "plt.show()\n"
      ],
      "metadata": {
        "colab": {
          "base_uri": "https://localhost:8080/",
          "height": 507
        },
        "id": "Dt3Jb9YVVCDt",
        "outputId": "993bac0f-8fa2-4370-c928-dac74dc3e201"
      },
      "execution_count": null,
      "outputs": [
        {
          "output_type": "stream",
          "name": "stderr",
          "text": [
            "<ipython-input-31-d3d5e986da9d>:1: FutureWarning: Series.dt.weekofyear and Series.dt.week have been deprecated. Please use Series.dt.isocalendar().week instead.\n",
            "  weekly_earnings = df.groupby(df['Visit_Date'].dt.week)['Total_Purchases_In_USD'].sum()\n"
          ]
        },
        {
          "output_type": "display_data",
          "data": {
            "text/plain": [
              "<Figure size 640x480 with 1 Axes>"
            ],
            "image/png": "[encoded data removed]"
          },
          "metadata": {}
        }
      ]
    },
    {
      "cell_type": "markdown",
      "source": [
        "Making a Pie Chart for the Different Categories of Customers"
      ],
      "metadata": {
        "id": "i39LMtq7Zmn4"
      }
    },
    {
      "cell_type": "code",
      "source": [
        "category_counts = feature_set['Customer_Category'].value_counts()\n",
        "\n",
        "# pie chart\n",
        "plt.pie(category_counts, labels=None, autopct='%1.1f%%', startangle=90, colors=['pink', 'lightcoral', 'lightskyblue'])\n",
        "plt.title('Customer Categories')\n",
        "\n",
        "# legend\n",
        "plt.legend(category_counts.index, loc='best', bbox_to_anchor=(1, 0.5), title='Categories')\n",
        "\n",
        "plt.show()\n"
      ],
      "metadata": {
        "colab": {
          "base_uri": "https://localhost:8080/",
          "height": 428
        },
        "id": "IfNptZa4Wl6v",
        "outputId": "8dfb10e9-7c80-4622-cbce-59d020e8fc79"
      },
      "execution_count": null,
      "outputs": [
        {
          "output_type": "display_data",
          "data": {
            "text/plain": [
              "<Figure size 640x480 with 1 Axes>"
            ],
            "image/png": "[encoded data removed]"
          },
          "metadata": {}
        }
      ]
    }
  ]
}